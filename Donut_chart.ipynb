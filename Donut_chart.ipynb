{
 "cells": [
  {
   "cell_type": "code",
   "execution_count": null,
   "id": "fifteen-facility",
   "metadata": {
    "tags": []
   },
   "outputs": [],
   "source": [
    "## BOX 1 - Import your Python packages\n",
    "import pandas as pd\n",
    "import plotly.graph_objects as go\n",
    "print(\"importing is done\") # This will print the note for you to show you that these functions are done"
   ]
  },
  {
   "cell_type": "code",
   "execution_count": null,
   "id": "broken-upper",
   "metadata": {},
   "outputs": [],
   "source": [
    "## BOX 2 - Import your data\n",
    "totals_sex = pd.read_excel( #read the excel file as a dataframe called 'totals_sex'\n",
    "    \"Data/Folkhalsomyndigheten_Covid19data_Oct22.xlsx\", #the location of the data\n",
    "    sheet_name=\"Totalt antal per kön\", #the sheet in the excel file where data is found\n",
    "    header=0, # The first row contains the variable titles (it isn't data)\n",
    "    engine=\"openpyxl\", # a package to load data, you don't need to import it (as above), but it's installed here.\n",
    "    keep_default_na=False, # don't keep NAs (null values)\n",
    ")\n",
    "print(\"file uploaded\")"
   ]
  },
  {
   "cell_type": "code",
   "execution_count": null,
   "id": "bibliographic-concept",
   "metadata": {},
   "outputs": [],
   "source": [
    "## BOX 3 - Check out your data\n",
    "print(totals_sex.info()) #This will show you how many data points you have and your variables."
   ]
  },
  {
   "cell_type": "code",
   "execution_count": null,
   "id": "spiritual-blanket",
   "metadata": {
    "tags": []
   },
   "outputs": [],
   "source": [
    "## BOX 4 - Rename your variables\n",
    "# Use this function to change the column names into English\n",
    "totals_sex.rename(columns={'Kön': 'Sex', 'Totalt_antal_fall': 'Total_infected', 'Totalt_antal_intensivvårdade': 'Total_intensive_care', 'Totalt_antal_avlidna': 'Total_mortality'}, inplace=True)\n",
    "\n",
    "print(totals_sex.info())"
   ]
  },
  {
   "cell_type": "code",
   "execution_count": null,
   "id": "everyday-ocean",
   "metadata": {},
   "outputs": [],
   "source": [
    "## BOX 5 - view your data\n",
    "# The columns are changed, but not the words (categories) in our columns.\n",
    "print(totals_sex.head())"
   ]
  },
  {
   "cell_type": "code",
   "execution_count": null,
   "id": "inside-sandwich",
   "metadata": {},
   "outputs": [],
   "source": [
    "## BOX 6 - change the content of your dataframe\n",
    "# Use these functions to change the content of the columns into English\n",
    "# totals_sex[\"Sex\"] indicates we look at the 'Sex' column in the 'totals_sex' dataframe\n",
    "totals_sex[\"Sex\"] = totals_sex[\"Sex\"].replace(\n",
    "    \"Kvinna\",\n",
    "    \"Female\",\n",
    ")\n",
    "\n",
    "totals_sex[\"Sex\"] = totals_sex[\"Sex\"].replace(\n",
    "    \"Man\",\n",
    "    \"Male\",\n",
    ")\n",
    "\n",
    "totals_sex[\"Sex\"] = totals_sex[\"Sex\"].replace(\n",
    "    \"Uppgift saknas\",\n",
    "    \"Sex Unknown\",\n",
    ")\n",
    "\n",
    "print(totals_sex.head()) # Use this to re-examine your data to check your changes worked"
   ]
  },
  {
   "cell_type": "code",
   "execution_count": null,
   "id": "imposed-vienna",
   "metadata": {},
   "outputs": [],
   "source": [
    "## BOX 7 - make a basic donut chart\n",
    "fig = go.Figure( # Use plotly graph objects to make a figure \n",
    "    go.Pie( # Use plotly graph objects to make a pie chart\n",
    "        values=totals_sex[\"Total_infected\"],# use the content of the 'Total infected' column as data in the plot\n",
    "        labels=totals_sex[\"Sex\"],# use the content of the 'Sex' column as data in the labels\n",
    "        hole=0.6, # this is the size of the hole 0.0 means no hole. 1.0 will swallow your plot.\n",
    "        direction=\"clockwise\",\n",
    "        sort=True, # in these last two lines, we sort the data in a clockwise fashion\n",
    "    )\n",
    ")\n",
    "fig.show() #use this to show the figure"
   ]
  },
  {
   "cell_type": "code",
   "execution_count": null,
   "id": "flying-fountain",
   "metadata": {},
   "outputs": [],
   "source": [
    "## BOX 8 - Update aspects of how the data looks\n",
    "# Modifying the basic data fomat of this pie/donut plot.\n",
    "## Try 'uncommenting' certain lines in the below 'update traces' function\n",
    "\n",
    "fig.update_traces(\n",
    "    textposition=\"outside\", # this will put the labels outside of the chart\n",
    "    marker=dict(colors=['#A7C947', '#045C64', '#491F53'], line=dict(color=\"#000000\", width=1)), # the colour of the sections and the outer line\n",
    "    #texttemplate=\"%{label} (%{value:.1f})\", # this will give the raw data value in the label to 1 decimal places\n",
    "    #texttemplate=\"%{label} (%{percent:.2f})\", # this will give the percentage value in the label to 3 decimal places\n",
    "    texttemplate=\"%{label}<br>(%{percent:.2%})\", # gives the percentage values on two lines, with a % symbol\n",
    "    ## NB; if you uncomment lines related to the same factor (e.g. texttemplate), you'll get an error as they relate to the same thing\n",
    ")\n",
    "fig.show() #use this to show the figure"
   ]
  },
  {
   "cell_type": "code",
   "execution_count": null,
   "id": "backed-bracelet",
   "metadata": {},
   "outputs": [],
   "source": [
    "## BOX 9 - Update aspects of the general layout\n",
    "## Modifying the basic layout of this pie/donut plot.\n",
    "## Try 'uncommenting' certain lines in the below 'update layout' function\n",
    "\n",
    "fig.update_layout(\n",
    "   margin=dict(l=0, r=0, b=0, t=100), # This will put in some space around your plot\n",
    "#     font=dict(size=12), # This will adjust the font size\n",
    "#     title=\"Oh look, a title!<br>\", # This will add a title\n",
    "## The below bit (on annotations) should be uncommented all together when you want to use it\n",
    "     annotations=[\n",
    "         dict(\n",
    "         showarrow=False,\n",
    "         text=\"The middle\",\n",
    "#         font=dict(size=20),\n",
    "#         x=0.5,\n",
    "#         y=0.5,\n",
    "     )\n",
    " ],\n",
    "   legend_title_text = \"<b>Sex</b>\", # This will change the title of your legend\n",
    "#     showlegend=False, # this will hide your legend\n",
    "#     width=500, # This will adjust the width of your plot overall\n",
    "#     height=500, # This will adjust the height of your plot overall\n",
    "#     autosize=False, # This can be crucial in stopping your graph from autosizing \n",
    ")\n",
    "fig.show() #use this to show the figure"
   ]
  },
  {
   "cell_type": "code",
   "execution_count": null,
   "id": "located-liberal",
   "metadata": {},
   "outputs": [],
   "source": []
  },
  {
   "cell_type": "code",
   "execution_count": null,
   "id": "direct-jamaica",
   "metadata": {},
   "outputs": [],
   "source": []
  }
 ],
 "metadata": {
  "kernelspec": {
   "display_name": "Python 3 (ipykernel)",
   "language": "python",
   "name": "python3"
  },
  "language_info": {
   "codemirror_mode": {
    "name": "ipython",
    "version": 3
   },
   "file_extension": ".py",
   "mimetype": "text/x-python",
   "name": "python",
   "nbconvert_exporter": "python",
   "pygments_lexer": "ipython3",
   "version": "3.9.0-final"
  }
 },
 "nbformat": 4,
 "nbformat_minor": 5
}