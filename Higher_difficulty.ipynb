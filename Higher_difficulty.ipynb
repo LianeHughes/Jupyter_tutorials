{
 "cells": [
  {
   "cell_type": "code",
   "execution_count": null,
   "metadata": {},
   "outputs": [],
   "source": [
    "# Your challenge is to make a plot that compares data in the first two years of the pandemic\n",
    "# If you need help understanding the syntax, or hints on how to set it up, check 'Bar_chart.ipynb' "
   ]
  },
  {
   "cell_type": "code",
   "execution_count": null,
   "id": "breeding-making",
   "metadata": {},
   "outputs": [],
   "source": [
    "## BOX 1 - Import your Python packages\n",
    "import pandas as pd\n",
    "import plotly.graph_objects as go\n",
    "print(\"importing is done\")"
   ]
  },
  {
   "cell_type": "code",
   "execution_count": null,
   "id": "ethical-apple",
   "metadata": {},
   "outputs": [],
   "source": [
    "## BOX 2 - Import your data\n",
    "cases_Sweden = pd.read_excel( # read the excel file as a dataframe called 'cases_Sweden'\n",
    "    \"Data/Folkhalsomyndigheten_Covid19data_Oct22.xlsx\",# the link to the data\n",
    "    sheet_name=\"Antal per dag region\",# the sheet in the excel file where data is found\n",
    "    header=0, # The first row contains the variable titles (it isn't data)\n",
    "    engine=\"openpyxl\", # a package to load data, you don't need to import it (as above), but it's installed here.\n",
    "    keep_default_na=False,# don't keep NAs (null values)\n",
    ")\n",
    "print(\"file uploaded\")"
   ]
  },
  {
   "cell_type": "code",
   "execution_count": null,
   "id": "comic-truck",
   "metadata": {},
   "outputs": [],
   "source": [
    "## BOX 3 - Check out your data\n",
    "print(cases_Sweden.info()) #This will show you how many data points you have and your variables.\n",
    "#why not try replacing 'info' with 'head' to look at your data. Put a name in the brackets to determine how many rows."
   ]
  },
  {
   "cell_type": "code",
   "execution_count": null,
   "id": "simplified-honduras",
   "metadata": {},
   "outputs": [],
   "source": [
    "## BOX 4 - Translate the columns to English (Statistikdatum = Date, and Totalt_antal_fall = Total infected)"
   ]
  },
  {
   "cell_type": "code",
   "execution_count": null,
   "id": "major-ground",
   "metadata": {},
   "outputs": [],
   "source": [
    "## BOX 5 - Filter your data to get a particular date range (if you'd like)"
   ]
  },
  {
   "cell_type": "code",
   "execution_count": null,
   "id": "pending-handle",
   "metadata": {},
   "outputs": [],
   "source": [
    "## BOX 6 - Set up two or more traces so that it's possible to compare cities\n",
    "trace1 = go.Bar(\n",
    "    x=dataframe[\"Date\"], #plot date on the x-axis\n",
    "    y=datafreame[\"City\"],\n",
    "    name=\"Cases in City\", #Name (used in legends)\n",
    "    marker_color=\"#0000FF\", #the colour of the bar (this is a darkish blue)\n",
    "    hovertemplate=\"Date: %{x}\" + \"<br>Cases: %{y}\", #what you see when you hover over the bars\n",
    ")\n",
    "trace2 = go.Bar(\n",
    "    x=dataframe[\"Date\"], #plot date on the x-axis\n",
    "    y=dataframe[\"City\"], #plot total cases on the y-axis\n",
    "    name=\"Cases in City\", #Name (used in legends)\n",
    "    marker_color=\"orange\", #the colour of the bar (this is just the standard orange)\n",
    "    hovertemplate=\"Date: %{x}\" + \"<br>Cases: %{y}\", #what you see when you hover over the bars\n",
    ")\n",
    "print(\"the traces are set up\") # this will just tell you that the trace is set up, the plot will show after the layout is done"
   ]
  },
  {
   "cell_type": "code",
   "execution_count": null,
   "id": "anticipated-impact",
   "metadata": {},
   "outputs": [],
   "source": [
    "## BOX 8 - Set up the layout for the plot comparing the two cities\n",
    "# figure layout\n",
    "fig = go.Figure(data=[trace1, trace2]) # now we put a list\n",
    "fig.update_layout(\n",
    "    plot_bgcolor=\"white\", font=dict(size=12), margin=dict(l=0, r=50, t=50, b=50), showlegend = True, #barmode=\"stack\",\n",
    ") #the background colour, font size, and size of margins around the graph can be edited here\n",
    "# Setting 'barmode=\"stack\"' in the above can be used if you want to put the bars on top of each other (stacked chart) instead of a grouped barchart (when the bars are next to each other) -remember to change the range later!\n",
    "# modify x-axis\n",
    "fig.update_xaxes(\n",
    "    title=\"\", #x-axis title \n",
    "    showgrid=True, #NOTICE - show grid does nothing unless you set a gridcolour (see y-axis below!)\n",
    "    linecolor=\"\", #this colour refers only to the line at the axis\n",
    "    # set start point of x-axis\n",
    "    tick0=\"\",\n",
    ")\n",
    "# modify y-axis\n",
    "fig.update_yaxes(\n",
    "    title=\"\",\n",
    "    showgrid=True,\n",
    "    gridcolor=\"\",\n",
    "    linecolor=\"\",\n",
    "    # change range to envelope the appropriate range\n",
    "    range=[],\n",
    ")\n",
    "fig.show()  # This will show the figure here for you"
   ]
  },
  {
   "cell_type": "code",
   "execution_count": null,
   "id": "packed-combine",
   "metadata": {},
   "outputs": [],
   "source": [
    "## BOX 9 - accessibility using buttons\n",
    "# whilst all of the features of plotly can be dynamic (try clicking on the legend), it is important that we maximise accessibility too.\n",
    "# good accessibility for colours are red to blue, or yellow to purple\n",
    "# Try using - https://plotly.com/python/custom-buttons/ to add buttons that can be used to only view data from certain cities, or certain timelines, for example. Also, try adding custom annotations to be able to highlight particular parts of the graph that may be of interest."
   ]
  },
  {
   "cell_type": "code",
   "execution_count": null,
   "id": "premier-sugar",
   "metadata": {},
   "outputs": [],
   "source": []
  },
  {
   "cell_type": "code",
   "execution_count": null,
   "id": "excessive-offense",
   "metadata": {},
   "outputs": [],
   "source": []
  }
 ],
 "metadata": {
  "kernelspec": {
   "display_name": "Python 3 (ipykernel)",
   "language": "python",
   "name": "python3"
  },
  "language_info": {
   "codemirror_mode": {
    "name": "ipython",
    "version": 3
   },
   "file_extension": ".py",
   "mimetype": "text/x-python",
   "name": "python",
   "nbconvert_exporter": "python",
   "pygments_lexer": "ipython3",
   "version": "3.9.0-final"
  }
 },
 "nbformat": 4,
 "nbformat_minor": 5
}