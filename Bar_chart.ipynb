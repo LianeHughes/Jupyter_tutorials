{
 "cells": [
  {
   "cell_type": "code",
   "execution_count": null,
   "id": "breeding-making",
   "metadata": {},
   "outputs": [],
   "source": [
    "## BOX 1 - Import your Python packages\n",
    "import pandas as pd\n",
    "import plotly.graph_objects as go\n",
    "print(\"importing is done\")"
   ]
  },
  {
   "cell_type": "code",
   "execution_count": null,
   "id": "ethical-apple",
   "metadata": {},
   "outputs": [],
   "source": [
    "## BOX 2 - Import your data\n",
    "cases_Sweden = pd.read_excel( # read the excel file as a dataframe called 'cases_Sweden'\n",
    "    'Data/Folkhalsomyndigheten_Covid19data_Oct22.xlsx',# the link to the data\n",
    "    sheet_name=\"Antal per dag region\",# the sheet in the excel file where data is found\n",
    "    header=0, # The first row contains the variable titles (it isn't data)\n",
    "    engine=\"openpyxl\", # a package to load data, you don't need to import it (as above), but it's installed here.\n",
    "    #keep_default_na=False,# don't keep NAs (null values)\n",
    ")\n",
    "print(\"file uploaded\")"
   ]
  },
  {
   "cell_type": "code",
   "execution_count": null,
   "id": "comic-truck",
   "metadata": {},
   "outputs": [],
   "source": [
    "## BOX 3 - Check out your data\n",
    "print(cases_Sweden.info()) #This will show you how many data points you have and your variables.\n",
    "#why not try replacing 'info' with 'head' to look at your data. Put a name in the brackets to determine how many rows."
   ]
  },
  {
   "cell_type": "code",
   "execution_count": null,
   "id": "simplified-honduras",
   "metadata": {},
   "outputs": [],
   "source": [
    "## BOX 4 - Rename your columns\n",
    "# Use these functions if you want to change the column names to English\n",
    "cases_Sweden.rename(columns={'Statistikdatum': 'Date', 'Totalt_antal_fall': 'Total_infected'}, inplace=True)\n",
    "# above to rename the columns\n",
    "print(cases_Sweden.info()) # to re-examine after the change"
   ]
  },
  {
   "cell_type": "code",
   "execution_count": null,
   "id": "major-ground",
   "metadata": {},
   "outputs": [],
   "source": [
    "## BOX 5 - Filter your data\n",
    "# here is how you'd filter data to include only data from 2022\n",
    "cases_2022 = cases_Sweden[cases_Sweden[\"Date\"] > \"2021-12-31 00:00:00\"] # look at dates above this one.\n",
    "print(cases_2022.info()) # check it out. You should see fewer data points than you did in Box 4"
   ]
  },
  {
   "cell_type": "code",
   "execution_count": null,
   "id": "separate-basketball",
   "metadata": {},
   "outputs": [],
   "source": [
    "## BOX 6 - Set up your data in a trace\n",
    "#Here is how we set up the data for a bar chart using graph_objects\n",
    "trace1 = go.Bar(\n",
    "    x=cases_2022[\"Date\"], #plot date on the x-axis\n",
    "    y=cases_2022[\"Total_infected\"], # plot total cases on the y-axis\n",
    "    name=\"Cases in Sweden\", # this is the name that you'll see in the legend\n",
    "    marker_color=\"rgb(46,104,165)\", # the colour of the bar (this is a paleish blue)\n",
    "    hovertemplate=\"Date: %{x}\" + \"<br>Cases: %{y}\", # what you see when you hover over the bars\n",
    ")\n",
    "print(\"the traces are set up\") # this will just tell you that the trace is set up, the plot will show after the layout is done"
   ]
  },
  {
   "cell_type": "code",
   "execution_count": null,
   "id": "african-standard",
   "metadata": {},
   "outputs": [],
   "source": [
    "## BOX 7 - Adjust your layout\n",
    "# figure layout\n",
    "fig = go.Figure(data=trace1) #data = the info about the plot (above)\n",
    "fig.update_layout(\n",
    "    plot_bgcolor=\"white\", font=dict(size=12), margin=dict(l=0, r=50, t=50, b=50)\n",
    ") #the background colour, font size, and size of margins around the graph \n",
    "# modify x-axis\n",
    "fig.update_xaxes(\n",
    "    title=\"<b>Date</b>\", #x-axis title \n",
    "    showgrid=True, #NOTICE - show grid does nothing unless you set a gridcolour (see y-axis below!)\n",
    "    linecolor=\"black\", #this colour refers only to the line at the axis\n",
    "    # set start point of x-axis\n",
    "    tick0=\"2022-01-01\",\n",
    ")\n",
    "# modify y-axis\n",
    "fig.update_yaxes(\n",
    "    title=\"<b>Number of Cases</b>\",\n",
    "    showgrid=True,\n",
    "    gridcolor=\"lightgrey\",\n",
    "    linecolor=\"black\",\n",
    "    # change range to envelope the appropriate range\n",
    "    range=[0, max(cases_2022[\"Total_infected\"] + 10)],\n",
    "    # The above is the maximum number of Swedish cases +10\n",
    "    # Nice to set a bit higher than the maximum so that it doesnt look 'cut off'\n",
    ")\n",
    "fig.show() # This will show the figure here for you"
   ]
  },
  {
   "cell_type": "code",
   "execution_count": null,
   "id": "pending-handle",
   "metadata": {},
   "outputs": [],
   "source": [
    "## BOX 8 - Set up two traces that will let you compared regions\n",
    "# Now we have plotted Sweden in general, lets try comparing two regions!\n",
    "# I am going to pick Stockholm and Uppsala\n",
    "trace2 = go.Bar(\n",
    "    x=cases_2022[\"Date\"], #plot date on the x-axis\n",
    "    y=cases_2022[\"Stockholm\"], #plot total cases on the y-axis\n",
    "    name=\"Cases in Stockholm\", #Name (used in legends)\n",
    "    marker_color=\"#0000FF\", #the colour of the bar (this is a darkish blue)\n",
    "    hovertemplate=\"Date: %{x}\" + \"<br>Cases: %{y}\", #what you see when you hover over the bars\n",
    ")\n",
    "trace3 = go.Bar(\n",
    "    x=cases_2022[\"Date\"], #plot date on the x-axis\n",
    "    y=cases_2022[\"Uppsala\"], #plot total cases on the y-axis\n",
    "    name=\"Cases in Uppsala\", #Name (used in legends)\n",
    "    marker_color=\"orange\", #the colour of the bar (this is just the standard orange)\n",
    "    hovertemplate=\"Date: %{x}\" + \"<br>Cases: %{y}\", #what you see when you hover over the bars\n",
    ")\n",
    "# trace4 = go.Bar(\n",
    "#     x=cases_2022[\"Date\"], #plot date on the x-axis\n",
    "#     y=cases_2022[\"Örebro\"], #plot total cases on the y-axis\n",
    "#     name=\"Cases in Örebro\", #Name (used in legends)\n",
    "#     marker_color=\"green\", #the colour of the bar (this is just the standard orange)\n",
    "#     hovertemplate=\"Date: %{x}\" + \"<br>Cases: %{y}\", #what you see when you hover over the bars\n",
    "# )\n",
    "print(\"the traces are set up\") # this will just tell you that the trace is set up, the plot will show after the layout is done"
   ]
  },
  {
   "cell_type": "code",
   "execution_count": null,
   "id": "anticipated-impact",
   "metadata": {},
   "outputs": [],
   "source": [
    "## BOX 9 - Set up the layout for the plot comparing the two cities\n",
    "# figure layout\n",
    "fig = go.Figure(data=[trace2, trace3]) # now we put a list\n",
    "fig.update_layout(\n",
    "    plot_bgcolor=\"white\", font=dict(size=12), margin=dict(l=0, r=50, t=50, b=50), showlegend = True, #barmode=\"stack\",\n",
    ") #the background colour, font size, and size of margins around the graph can be edited here\n",
    "# Setting 'barmode=\"stack\"' in the above can be used if you want to put the bars on top of each other (stacked chart) instead of a grouped barchart (when the bars are next to each other) -remember to change the range later!\n",
    "# modify x-axis\n",
    "fig.update_xaxes(\n",
    "    title=\"<b>Date</b>\", #x-axis title \n",
    "    showgrid=True, #NOTICE - show grid does nothing unless you set a gridcolour (see y-axis below!)\n",
    "    linecolor=\"black\", #this colour refers only to the line at the axis\n",
    "    # set start point of x-axis\n",
    "    tick0=\"2022-01-01 \",\n",
    ")\n",
    "# modify y-axis\n",
    "fig.update_yaxes(\n",
    "    title=\"<b>Number of Cases</b>\",\n",
    "    showgrid=True,\n",
    "    gridcolor=\"lightgrey\",\n",
    "    linecolor=\"black\",\n",
    "    # change range to envelope the appropriate range\n",
    "    range=[0, max(cases_2022[\"Stockholm\"] + 100)],\n",
    "    # The above is the maximum number of cases in Stockholm +100\n",
    "    # Here, this is probably a bit high, try changing it to the maximum cases for Stockholm\n",
    ")\n",
    "fig.show()  # This will show the figure here for you"
   ]
  },
  {
   "cell_type": "code",
   "execution_count": null,
   "id": "packed-combine",
   "metadata": {},
   "outputs": [],
   "source": [
    "## BOX 10 - How to filter between two dates\n",
    "# Try using the code below to restrict the time (this focuses on January - March 2022)\n",
    "print(cases_2022.info())\n",
    "Jan_to_Mar_2022 = cases_Sweden[(cases_Sweden[\"Date\"] > \"2021-12-31 00:00:00\") & (cases_Sweden[\"Date\"] <= \"2022-03-31 00:00:00\")]\n",
    "print(Jan_to_Mar_2022.info())"
   ]
  },
  {
   "cell_type": "code",
   "execution_count": null,
   "id": "reflected-salon",
   "metadata": {},
   "outputs": [],
   "source": [
    "#Try making your own plot comparing 2 cities over a specific time frame.\n",
    "# you can copy & paste the code from the figure above\n",
    "# Don't forget to change the plot code so that you refer to your new dataframe!"
   ]
  },
  {
   "cell_type": "code",
   "execution_count": null,
   "id": "premier-sugar",
   "metadata": {},
   "outputs": [],
   "source": []
  },
  {
   "cell_type": "code",
   "execution_count": null,
   "id": "excessive-offense",
   "metadata": {},
   "outputs": [],
   "source": []
  }
 ],
 "metadata": {
  "kernelspec": {
   "display_name": "Python 3 (ipykernel)",
   "language": "python",
   "name": "python3"
  },
  "language_info": {
   "codemirror_mode": {
    "name": "ipython",
    "version": 3
   },
   "file_extension": ".py",
   "mimetype": "text/x-python",
   "name": "python",
   "nbconvert_exporter": "python",
   "pygments_lexer": "ipython3",
   "version": "3.9.0-final"
  }
 },
 "nbformat": 4,
 "nbformat_minor": 5
}